{
 "cells": [
  {
   "cell_type": "code",
   "execution_count": 1,
   "id": "49a5215f",
   "metadata": {},
   "outputs": [
    {
     "name": "stdout",
     "output_type": "stream",
     "text": [
      "Hello, Hamza, Abbasi\n"
     ]
    }
   ],
   "source": [
    "print(\"Hello, Hamza, Abbasi\");"
   ]
  },
  {
   "cell_type": "code",
   "execution_count": 29,
   "id": "d19d9958",
   "metadata": {},
   "outputs": [
    {
     "name": "stdout",
     "output_type": "stream",
     "text": [
      "Twinkle, twinkle, little star,\n",
      "     How I wonder what you are! \n",
      "         Up above the world so high,\n",
      "         like a diamond in the sky.\n",
      " Twinkle, twinkle, little star,\n",
      "     How I wonder what you are\n"
     ]
    }
   ],
   "source": [
    "print((\"Twinkle, twinkle, little star,\\n\"),                                                                                               \n",
    "      (\"    \"\"How I wonder what you are! \\n\") ,(  \"        \"  \"Up above the world so high,\\n\") ,(\"        \"\"like a diamond in the sky.\\n\")\n",
    "        ,(\"Twinkle, twinkle, little star,\\n\"),(\"    \"\"How I wonder what you are\"));    "
   ]
  },
  {
   "cell_type": "markdown",
   "id": "0fce66c3",
   "metadata": {},
   "source": [
    "# Write a python program to get the python version you are using"
   ]
  },
  {
   "cell_type": "code",
   "execution_count": 49,
   "id": "d3d17419",
   "metadata": {},
   "outputs": [
    {
     "name": "stdout",
     "output_type": "stream",
     "text": [
      "Enter python version  I am using python 3 version \n"
     ]
    }
   ],
   "source": [
    " inp = input(\"Enter python version\");\n",
    "    "
   ]
  },
  {
   "cell_type": "markdown",
   "id": "fa9931ed",
   "metadata": {},
   "source": [
    "#    # Write a python program to display the current and time"
   ]
  },
  {
   "cell_type": "code",
   "execution_count": 51,
   "id": "c93aaee6",
   "metadata": {},
   "outputs": [
    {
     "name": "stdout",
     "output_type": "stream",
     "text": [
      "current data and time is:\n",
      "01-01-22\n",
      "20:45:31\n"
     ]
    }
   ],
   "source": [
    "import datetime\n",
    "now=datetime.datetime.now()\n",
    "\n",
    "print(\"current data and time is:\")\n",
    "\n",
    "print(now.strftime(\"%d-%m-%y\"))\n",
    "print(now.strftime(\"%H:%M:%S\"))"
   ]
  },
  {
   "cell_type": "markdown",
   "id": "a3fbf0f4",
   "metadata": {},
   "source": [
    "#    # Write a python program which accepts the radius of a circle from the user and compute the areas."
   ]
  },
  {
   "cell_type": "code",
   "execution_count": null,
   "id": "2a333767",
   "metadata": {},
   "outputs": [],
   "source": []
  },
  {
   "cell_type": "code",
   "execution_count": null,
   "id": "4de9a63f",
   "metadata": {},
   "outputs": [],
   "source": []
  },
  {
   "cell_type": "code",
   "execution_count": null,
   "id": "0d0d5ec7",
   "metadata": {},
   "outputs": [],
   "source": []
  },
  {
   "cell_type": "code",
   "execution_count": null,
   "id": "d5e61a97",
   "metadata": {},
   "outputs": [],
   "source": []
  },
  {
   "cell_type": "code",
   "execution_count": null,
   "id": "99547f4f",
   "metadata": {},
   "outputs": [],
   "source": []
  }
 ],
 "metadata": {
  "kernelspec": {
   "display_name": "Python 3 (ipykernel)",
   "language": "python",
   "name": "python3"
  },
  "language_info": {
   "codemirror_mode": {
    "name": "ipython",
    "version": 3
   },
   "file_extension": ".py",
   "mimetype": "text/x-python",
   "name": "python",
   "nbconvert_exporter": "python",
   "pygments_lexer": "ipython3",
   "version": "3.9.7"
  }
 },
 "nbformat": 4,
 "nbformat_minor": 5
}
