{
 "cells": [
  {
   "cell_type": "code",
   "execution_count": 1,
   "id": "bb8b069a",
   "metadata": {},
   "outputs": [
    {
     "name": "stdout",
     "output_type": "stream",
     "text": [
      "enter your first name:Hamza \n",
      "enter your last name:Abbasi\n",
      "your reversed order is: isabbA azmaH\n"
     ]
    }
   ],
   "source": [
    "#5\n",
    "first=input(\"enter your first name:\");\n",
    "last=input(\"enter your last name:\");\n",
    "print(\"your reversed order is:\", last[::-1]+first[::-1]);"
   ]
  },
  {
   "cell_type": "code",
   "execution_count": 6,
   "id": "41b1b055",
   "metadata": {},
   "outputs": [
    {
     "name": "stdout",
     "output_type": "stream",
     "text": [
      "enter the first number5\n",
      "enter the second number6\n",
      "11\n"
     ]
    }
   ],
   "source": [
    "#6\n",
    "x= int(input(\"enter the first number\"));\n",
    "y= int(input(\"enter the second number\"));\n",
    "z= x+y\n",
    "print(z);"
   ]
  },
  {
   "cell_type": "code",
   "execution_count": null,
   "id": "2f50238b",
   "metadata": {},
   "outputs": [],
   "source": []
  }
 ],
 "metadata": {
  "kernelspec": {
   "display_name": "Python 3 (ipykernel)",
   "language": "python",
   "name": "python3"
  },
  "language_info": {
   "codemirror_mode": {
    "name": "ipython",
    "version": 3
   },
   "file_extension": ".py",
   "mimetype": "text/x-python",
   "name": "python",
   "nbconvert_exporter": "python",
   "pygments_lexer": "ipython3",
   "version": "3.9.7"
  }
 },
 "nbformat": 4,
 "nbformat_minor": 5
}
